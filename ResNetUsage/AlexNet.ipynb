{
 "cells": [
  {
   "cell_type": "code",
   "execution_count": 5,
   "metadata": {},
   "outputs": [],
   "source": [
    "import caffe\n",
    "import sys\n",
    "import numpy as np\n",
    "import matplotlib.pyplot as plt\n",
    "%matplotlib inline"
   ]
  },
  {
   "cell_type": "code",
   "execution_count": 6,
   "metadata": {},
   "outputs": [
    {
     "name": "stdout",
     "output_type": "stream",
     "text": [
      "1.0.0\n"
     ]
    }
   ],
   "source": [
    "caffe.set_mode_gpu()\n",
    "caffe.set_device(1)\n",
    "print(caffe.__version__)"
   ]
  },
  {
   "cell_type": "code",
   "execution_count": 7,
   "metadata": {},
   "outputs": [],
   "source": [
    "solver = caffe.NesterovSolver('proto/alexNet_solver.prototxt')"
   ]
  },
  {
   "cell_type": "code",
   "execution_count": 8,
   "metadata": {},
   "outputs": [
    {
     "data": {
      "text/plain": [
       "[('data', (256, 1, 224, 224)),\n",
       " ('label', (256,)),\n",
       " ('conv1', (256, 96, 54, 54)),\n",
       " ('norm1', (256, 96, 54, 54)),\n",
       " ('pool1', (256, 96, 27, 27)),\n",
       " ('conv2', (256, 256, 27, 27)),\n",
       " ('norm2', (256, 256, 27, 27)),\n",
       " ('pool2', (256, 256, 13, 13)),\n",
       " ('conv3', (256, 384, 13, 13)),\n",
       " ('conv4', (256, 384, 13, 13)),\n",
       " ('conv5', (256, 256, 13, 13)),\n",
       " ('pool5', (256, 256, 6, 6)),\n",
       " ('fc6', (256, 4096)),\n",
       " ('fc7', (256, 4096)),\n",
       " ('fc8', (256, 10)),\n",
       " ('loss', ())]"
      ]
     },
     "execution_count": 8,
     "metadata": {},
     "output_type": "execute_result"
    }
   ],
   "source": [
    "[(k, v.data.shape) for k, v in solver.net.blobs.items()]"
   ]
  },
  {
   "cell_type": "code",
   "execution_count": null,
   "metadata": {},
   "outputs": [],
   "source": [
    "solver.solve()"
   ]
  },
  {
   "cell_type": "code",
   "execution_count": null,
   "metadata": {},
   "outputs": [],
   "source": []
  }
 ],
 "metadata": {
  "kernelspec": {
   "display_name": "Python 3",
   "language": "python",
   "name": "python3"
  },
  "language_info": {
   "codemirror_mode": {
    "name": "ipython",
    "version": 3
   },
   "file_extension": ".py",
   "mimetype": "text/x-python",
   "name": "python",
   "nbconvert_exporter": "python",
   "pygments_lexer": "ipython3",
   "version": "3.6.8"
  }
 },
 "nbformat": 4,
 "nbformat_minor": 2
}
