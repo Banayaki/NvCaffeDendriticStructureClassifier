{
 "cells": [
  {
   "cell_type": "code",
   "execution_count": 1,
   "metadata": {},
   "outputs": [],
   "source": [
    "import caffe\n",
    "import sys\n",
    "import numpy as np\n",
    "import matplotlib.pyplot as plt\n",
    "%matplotlib inline"
   ]
  },
  {
   "cell_type": "code",
   "execution_count": 2,
   "metadata": {},
   "outputs": [
    {
     "name": "stdout",
     "output_type": "stream",
     "text": [
      "1.0.0\n"
     ]
    }
   ],
   "source": [
    "caffe.set_mode_gpu()\n",
    "caffe.set_device(1)\n",
    "print(caffe.__version__)"
   ]
  },
  {
   "cell_type": "code",
   "execution_count": 3,
   "metadata": {},
   "outputs": [],
   "source": [
    "solver = caffe.NesterovSolver('proto/googleNet_solver.prototxt')"
   ]
  },
  {
   "cell_type": "code",
   "execution_count": 4,
   "metadata": {},
   "outputs": [
    {
     "data": {
      "text/plain": [
       "[('data', (32, 1, 224, 224)),\n",
       " ('label', (32,)),\n",
       " ('label_data_1_split_0', (32,)),\n",
       " ('label_data_1_split_1', (32,)),\n",
       " ('label_data_1_split_2', (32,)),\n",
       " ('conv1/7x7_s2', (32, 64, 112, 112)),\n",
       " ('pool1/3x3_s2', (32, 64, 56, 56)),\n",
       " ('pool1/norm1', (32, 64, 56, 56)),\n",
       " ('conv2/3x3_reduce', (32, 64, 56, 56)),\n",
       " ('conv2/3x3', (32, 192, 56, 56)),\n",
       " ('conv2/norm2', (32, 192, 56, 56)),\n",
       " ('pool2/3x3_s2', (32, 192, 28, 28)),\n",
       " ('pool2/3x3_s2_pool2/3x3_s2_0_split_0', (32, 192, 28, 28)),\n",
       " ('pool2/3x3_s2_pool2/3x3_s2_0_split_1', (32, 192, 28, 28)),\n",
       " ('pool2/3x3_s2_pool2/3x3_s2_0_split_2', (32, 192, 28, 28)),\n",
       " ('pool2/3x3_s2_pool2/3x3_s2_0_split_3', (32, 192, 28, 28)),\n",
       " ('inception_3a/1x1', (32, 64, 28, 28)),\n",
       " ('inception_3a/3x3_reduce', (32, 96, 28, 28)),\n",
       " ('inception_3a/3x3', (32, 128, 28, 28)),\n",
       " ('inception_3a/5x5_reduce', (32, 16, 28, 28)),\n",
       " ('inception_3a/5x5', (32, 32, 28, 28)),\n",
       " ('inception_3a/pool', (32, 192, 28, 28)),\n",
       " ('inception_3a/pool_proj', (32, 32, 28, 28)),\n",
       " ('inception_3a/output', (32, 256, 28, 28)),\n",
       " ('inception_3a/output_inception_3a/output_0_split_0', (32, 256, 28, 28)),\n",
       " ('inception_3a/output_inception_3a/output_0_split_1', (32, 256, 28, 28)),\n",
       " ('inception_3a/output_inception_3a/output_0_split_2', (32, 256, 28, 28)),\n",
       " ('inception_3a/output_inception_3a/output_0_split_3', (32, 256, 28, 28)),\n",
       " ('inception_3b/1x1', (32, 128, 28, 28)),\n",
       " ('inception_3b/3x3_reduce', (32, 128, 28, 28)),\n",
       " ('inception_3b/3x3', (32, 192, 28, 28)),\n",
       " ('inception_3b/5x5_reduce', (32, 32, 28, 28)),\n",
       " ('inception_3b/5x5', (32, 96, 28, 28)),\n",
       " ('inception_3b/pool', (32, 256, 28, 28)),\n",
       " ('inception_3b/pool_proj', (32, 64, 28, 28)),\n",
       " ('inception_3b/output', (32, 480, 28, 28)),\n",
       " ('pool3/3x3_s2', (32, 480, 14, 14)),\n",
       " ('pool3/3x3_s2_pool3/3x3_s2_0_split_0', (32, 480, 14, 14)),\n",
       " ('pool3/3x3_s2_pool3/3x3_s2_0_split_1', (32, 480, 14, 14)),\n",
       " ('pool3/3x3_s2_pool3/3x3_s2_0_split_2', (32, 480, 14, 14)),\n",
       " ('pool3/3x3_s2_pool3/3x3_s2_0_split_3', (32, 480, 14, 14)),\n",
       " ('inception_4a/1x1', (32, 192, 14, 14)),\n",
       " ('inception_4a/3x3_reduce', (32, 96, 14, 14)),\n",
       " ('inception_4a/3x3', (32, 208, 14, 14)),\n",
       " ('inception_4a/5x5_reduce', (32, 16, 14, 14)),\n",
       " ('inception_4a/5x5', (32, 48, 14, 14)),\n",
       " ('inception_4a/pool', (32, 480, 14, 14)),\n",
       " ('inception_4a/pool_proj', (32, 64, 14, 14)),\n",
       " ('inception_4a/output', (32, 512, 14, 14)),\n",
       " ('inception_4a/output_inception_4a/output_0_split_0', (32, 512, 14, 14)),\n",
       " ('inception_4a/output_inception_4a/output_0_split_1', (32, 512, 14, 14)),\n",
       " ('inception_4a/output_inception_4a/output_0_split_2', (32, 512, 14, 14)),\n",
       " ('inception_4a/output_inception_4a/output_0_split_3', (32, 512, 14, 14)),\n",
       " ('inception_4a/output_inception_4a/output_0_split_4', (32, 512, 14, 14)),\n",
       " ('loss1/ave_pool', (32, 512, 4, 4)),\n",
       " ('loss1/conv', (32, 128, 4, 4)),\n",
       " ('loss1/fc', (32, 1024)),\n",
       " ('loss1/classifier', (32, 1000)),\n",
       " ('loss1/loss1', ()),\n",
       " ('inception_4b/1x1', (32, 160, 14, 14)),\n",
       " ('inception_4b/3x3_reduce', (32, 112, 14, 14)),\n",
       " ('inception_4b/3x3', (32, 224, 14, 14)),\n",
       " ('inception_4b/5x5_reduce', (32, 24, 14, 14)),\n",
       " ('inception_4b/5x5', (32, 64, 14, 14)),\n",
       " ('inception_4b/pool', (32, 512, 14, 14)),\n",
       " ('inception_4b/pool_proj', (32, 64, 14, 14)),\n",
       " ('inception_4b/output', (32, 512, 14, 14)),\n",
       " ('inception_4b/output_inception_4b/output_0_split_0', (32, 512, 14, 14)),\n",
       " ('inception_4b/output_inception_4b/output_0_split_1', (32, 512, 14, 14)),\n",
       " ('inception_4b/output_inception_4b/output_0_split_2', (32, 512, 14, 14)),\n",
       " ('inception_4b/output_inception_4b/output_0_split_3', (32, 512, 14, 14)),\n",
       " ('inception_4c/1x1', (32, 128, 14, 14)),\n",
       " ('inception_4c/3x3_reduce', (32, 128, 14, 14)),\n",
       " ('inception_4c/3x3', (32, 256, 14, 14)),\n",
       " ('inception_4c/5x5_reduce', (32, 24, 14, 14)),\n",
       " ('inception_4c/5x5', (32, 64, 14, 14)),\n",
       " ('inception_4c/pool', (32, 512, 14, 14)),\n",
       " ('inception_4c/pool_proj', (32, 64, 14, 14)),\n",
       " ('inception_4c/output', (32, 512, 14, 14)),\n",
       " ('inception_4c/output_inception_4c/output_0_split_0', (32, 512, 14, 14)),\n",
       " ('inception_4c/output_inception_4c/output_0_split_1', (32, 512, 14, 14)),\n",
       " ('inception_4c/output_inception_4c/output_0_split_2', (32, 512, 14, 14)),\n",
       " ('inception_4c/output_inception_4c/output_0_split_3', (32, 512, 14, 14)),\n",
       " ('inception_4d/1x1', (32, 112, 14, 14)),\n",
       " ('inception_4d/3x3_reduce', (32, 144, 14, 14)),\n",
       " ('inception_4d/3x3', (32, 288, 14, 14)),\n",
       " ('inception_4d/5x5_reduce', (32, 32, 14, 14)),\n",
       " ('inception_4d/5x5', (32, 64, 14, 14)),\n",
       " ('inception_4d/pool', (32, 512, 14, 14)),\n",
       " ('inception_4d/pool_proj', (32, 64, 14, 14)),\n",
       " ('inception_4d/output', (32, 528, 14, 14)),\n",
       " ('inception_4d/output_inception_4d/output_0_split_0', (32, 528, 14, 14)),\n",
       " ('inception_4d/output_inception_4d/output_0_split_1', (32, 528, 14, 14)),\n",
       " ('inception_4d/output_inception_4d/output_0_split_2', (32, 528, 14, 14)),\n",
       " ('inception_4d/output_inception_4d/output_0_split_3', (32, 528, 14, 14)),\n",
       " ('inception_4d/output_inception_4d/output_0_split_4', (32, 528, 14, 14)),\n",
       " ('loss2/ave_pool', (32, 528, 4, 4)),\n",
       " ('loss2/conv', (32, 128, 4, 4)),\n",
       " ('loss2/fc', (32, 1024)),\n",
       " ('loss2/classifier', (32, 1000)),\n",
       " ('loss2/loss2', ()),\n",
       " ('inception_4e/1x1', (32, 256, 14, 14)),\n",
       " ('inception_4e/3x3_reduce', (32, 160, 14, 14)),\n",
       " ('inception_4e/3x3', (32, 320, 14, 14)),\n",
       " ('inception_4e/5x5_reduce', (32, 32, 14, 14)),\n",
       " ('inception_4e/5x5', (32, 128, 14, 14)),\n",
       " ('inception_4e/pool', (32, 528, 14, 14)),\n",
       " ('inception_4e/pool_proj', (32, 128, 14, 14)),\n",
       " ('inception_4e/output', (32, 832, 14, 14)),\n",
       " ('pool4/3x3_s2', (32, 832, 7, 7)),\n",
       " ('pool4/3x3_s2_pool4/3x3_s2_0_split_0', (32, 832, 7, 7)),\n",
       " ('pool4/3x3_s2_pool4/3x3_s2_0_split_1', (32, 832, 7, 7)),\n",
       " ('pool4/3x3_s2_pool4/3x3_s2_0_split_2', (32, 832, 7, 7)),\n",
       " ('pool4/3x3_s2_pool4/3x3_s2_0_split_3', (32, 832, 7, 7)),\n",
       " ('inception_5a/1x1', (32, 256, 7, 7)),\n",
       " ('inception_5a/3x3_reduce', (32, 160, 7, 7)),\n",
       " ('inception_5a/3x3', (32, 320, 7, 7)),\n",
       " ('inception_5a/5x5_reduce', (32, 32, 7, 7)),\n",
       " ('inception_5a/5x5', (32, 128, 7, 7)),\n",
       " ('inception_5a/pool', (32, 832, 7, 7)),\n",
       " ('inception_5a/pool_proj', (32, 128, 7, 7)),\n",
       " ('inception_5a/output', (32, 832, 7, 7)),\n",
       " ('inception_5a/output_inception_5a/output_0_split_0', (32, 832, 7, 7)),\n",
       " ('inception_5a/output_inception_5a/output_0_split_1', (32, 832, 7, 7)),\n",
       " ('inception_5a/output_inception_5a/output_0_split_2', (32, 832, 7, 7)),\n",
       " ('inception_5a/output_inception_5a/output_0_split_3', (32, 832, 7, 7)),\n",
       " ('inception_5b/1x1', (32, 384, 7, 7)),\n",
       " ('inception_5b/3x3_reduce', (32, 192, 7, 7)),\n",
       " ('inception_5b/3x3', (32, 384, 7, 7)),\n",
       " ('inception_5b/5x5_reduce', (32, 48, 7, 7)),\n",
       " ('inception_5b/5x5', (32, 128, 7, 7)),\n",
       " ('inception_5b/pool', (32, 832, 7, 7)),\n",
       " ('inception_5b/pool_proj', (32, 128, 7, 7)),\n",
       " ('inception_5b/output', (32, 1024, 7, 7)),\n",
       " ('pool5/7x7_s1', (32, 1024, 1, 1)),\n",
       " ('loss3/classifier', (32, 10)),\n",
       " ('loss3/loss3', ())]"
      ]
     },
     "execution_count": 4,
     "metadata": {},
     "output_type": "execute_result"
    }
   ],
   "source": [
    "[(k, v.data.shape) for k, v in solver.net.blobs.items()]"
   ]
  },
  {
   "cell_type": "code",
   "execution_count": null,
   "metadata": {},
   "outputs": [],
   "source": [
    "solver.solve()"
   ]
  },
  {
   "cell_type": "code",
   "execution_count": null,
   "metadata": {},
   "outputs": [],
   "source": []
  }
 ],
 "metadata": {
  "kernelspec": {
   "display_name": "Python 3",
   "language": "python",
   "name": "python3"
  },
  "language_info": {
   "codemirror_mode": {
    "name": "ipython",
    "version": 3
   },
   "file_extension": ".py",
   "mimetype": "text/x-python",
   "name": "python",
   "nbconvert_exporter": "python",
   "pygments_lexer": "ipython3",
   "version": "3.6.8"
  }
 },
 "nbformat": 4,
 "nbformat_minor": 2
}
