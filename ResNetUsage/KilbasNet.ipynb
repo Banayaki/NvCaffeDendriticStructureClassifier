{
 "cells": [
  {
   "cell_type": "code",
   "execution_count": 1,
   "metadata": {},
   "outputs": [],
   "source": [
    "from caffe import layers as L, params as P\n",
    "import caffe"
   ]
  },
  {
   "cell_type": "code",
   "execution_count": 2,
   "metadata": {},
   "outputs": [],
   "source": [
    "caffe.set_mode_gpu()\n",
    "caffe.set_device(1)"
   ]
  },
  {
   "cell_type": "code",
   "execution_count": 5,
   "metadata": {},
   "outputs": [],
   "source": [
    "def net(data_set, batch_size, scope):\n",
    "    n = caffe.NetSpec()\n",
    "    n.data, n.label = L.ImageData(\n",
    "        batch_size=batch_size, \n",
    "        source=data_set, \n",
    "        is_color=False, \n",
    "        transform_param=dict(crop_size=100), \n",
    "        ntop=2)\n",
    "    \n",
    "    n.conv1_1 = L.Convolution(n.data, kernel_size=3, pad=1, num_output=32, weight_filler=dict(type='xavier'))\n",
    "    n.batch1_1 = L.BatchNorm(n.conv1_1)\n",
    "    n.relu1_1 = L.ReLU(n.batch1_1, in_place=True)\n",
    "    n.conv1_2 = L.Convolution(n.relu1_1, kernel_size=3, pad=1, num_output=32, weight_filler=dict(type='xavier'))\n",
    "    n.batch1_2 = L.BatchNorm(n.conv1_2)\n",
    "    n.relu1_2 = L.ReLU(n.batch1_2, in_place=True)\n",
    "    n.pool1 = L.Pooling(n.relu1_2, kernel_size=2, stride=2, pool=P.Pooling.MAX)\n",
    "    \n",
    "    n.conv2_1 = L.Convolution(n.pool1, kernel_size=3, pad=1, num_output=64, weight_filler=dict(type='xavier'))\n",
    "    n.batch2_1 = L.BatchNorm(n.conv2_1)\n",
    "    n.relu2_1 = L.ReLU(n.batch2_1, in_place=True)\n",
    "    n.conv2_2 = L.Convolution(n.relu2_1, kernel_size=3, pad=1, num_output=64, weight_filler=dict(type='xavier'))\n",
    "    n.batch2_2 = L.BatchNorm(n.conv2_2)\n",
    "    n.relu2_2 = L.ReLU(n.batch2_2, in_place=True)\n",
    "    n.pool2 = L.Pooling(n.relu2_2, kernel_size=2, stride=2, pool=P.Pooling.MAX)\n",
    "    \n",
    "    n.conv3_1 = L.Convolution(n.pool2, kernel_size=3, pad=1, num_output=128, weight_filler=dict(type='xavier'))\n",
    "    n.batch3_1 = L.BatchNorm(n.conv3_1)\n",
    "    n.relu3_1 = L.ReLU(n.batch3_1, in_place=True)\n",
    "    n.conv3_2 = L.Convolution(n.relu3_1, kernel_size=3, pad=1, num_output=128, weight_filler=dict(type='xavier'))\n",
    "    n.batch3_2 = L.BatchNorm(n.conv3_2)\n",
    "    n.relu3_2 = L.ReLU(n.batch3_2, in_place=True)\n",
    "    n.pool3 = L.Pooling(n.relu3_2, kernel_size=2, stride=2, pool=P.Pooling.MAX)\n",
    "    \n",
    "    n.conv4_1 = L.Convolution(n.pool3, kernel_size=3, pad=1, num_output=256, weight_filler=dict(type='xavier'))\n",
    "    n.batch4_1 = L.BatchNorm(n.conv4_1)\n",
    "    n.relu4_1 = L.ReLU(n.batch4_1, in_place=True)\n",
    "    n.pool4 = L.Pooling(n.relu4_1, kernel_size=2, stride=2, pool=P.Pooling.MAX)\n",
    "    \n",
    "    n.fc1 =   L.InnerProduct(n.pool4, num_output=1000, weight_filler=dict(type='xavier'))\n",
    "    n.relu_a1 = L.ReLU(n.fc1, in_place=True)\n",
    "    n.fc2 = L.InnerProduct(n.relu_a1, num_output=500, weight_filler=dict(type='xavier'))\n",
    "    n.relu_a2 = L.ReLU(n.fc2, in_place=True)\n",
    "    n.fc3 = L.InnerProduct(n.relu_a2, num_output=200, weight_filler=dict(type='xavier'))\n",
    "    n.relu_a3 = L.ReLU(n.fc3, in_place=True)\n",
    "    \n",
    "    n.score = L.InnerProduct(n.relu_a3, num_output=11, weight_filler=dict(type='xavier'))\n",
    "    n.loss =  L.SoftmaxWithLoss(n.score, n.label)\n",
    "    \n",
    "    n.accuracy_top1 = L.Accuracy(n.score, n.label)\n",
    "    #n.accuracy_top5 = L.Accuracy(n.score, n.label, accuracy_param=dict(top_k=5))\n",
    "        \n",
    "    return n.to_proto()\n",
    "    \n",
    "with open('proto/kilbas_train.prototxt', 'w') as f:\n",
    "    f.write(str(net('resources/train.txt', 200, 'TRAIN')))\n",
    "\n",
    "with open('proto/kilbas_test.prototxt', 'w') as f:\n",
    "    f.write(str(net('resources/test.txt', 200, 'TEST')))"
   ]
  },
  {
   "cell_type": "code",
   "execution_count": 6,
   "metadata": {},
   "outputs": [
    {
     "data": {
      "text/plain": [
       "[('data', (200, 1, 100, 100)),\n",
       " ('label', (200,)),\n",
       " ('label_data_1_split_0', (200,)),\n",
       " ('label_data_1_split_1', (200,)),\n",
       " ('conv1_1', (200, 32, 100, 100)),\n",
       " ('batch1_1', (200, 32, 100, 100)),\n",
       " ('conv1_2', (200, 32, 100, 100)),\n",
       " ('batch1_2', (200, 32, 100, 100)),\n",
       " ('pool1', (200, 32, 50, 50)),\n",
       " ('conv2_1', (200, 64, 50, 50)),\n",
       " ('batch2_1', (200, 64, 50, 50)),\n",
       " ('conv2_2', (200, 64, 50, 50)),\n",
       " ('batch2_2', (200, 64, 50, 50)),\n",
       " ('pool2', (200, 64, 25, 25)),\n",
       " ('conv3_1', (200, 128, 25, 25)),\n",
       " ('batch3_1', (200, 128, 25, 25)),\n",
       " ('conv3_2', (200, 128, 25, 25)),\n",
       " ('batch3_2', (200, 128, 25, 25)),\n",
       " ('pool3', (200, 128, 13, 13)),\n",
       " ('conv4_1', (200, 256, 13, 13)),\n",
       " ('batch4_1', (200, 256, 13, 13)),\n",
       " ('pool4', (200, 256, 7, 7)),\n",
       " ('fc1', (200, 1000)),\n",
       " ('fc2', (200, 500)),\n",
       " ('fc3', (200, 200)),\n",
       " ('score', (200, 11)),\n",
       " ('score_score_0_split_0', (200, 11)),\n",
       " ('score_score_0_split_1', (200, 11)),\n",
       " ('loss', ()),\n",
       " ('accuracy_top1', ())]"
      ]
     },
     "execution_count": 6,
     "metadata": {},
     "output_type": "execute_result"
    }
   ],
   "source": [
    "solver = caffe.SGDSolver('proto/kilbas_solver.prototxt')\n",
    "[(k, v.data.shape) for k, v in solver.net.blobs.items()]"
   ]
  },
  {
   "cell_type": "code",
   "execution_count": null,
   "metadata": {},
   "outputs": [],
   "source": [
    "solver.solve()"
   ]
  },
  {
   "cell_type": "markdown",
   "metadata": {},
   "source": [
    "23000 эпох SGD with moment\n",
    "\n",
    "base_lr:0.00001\n",
    "lr_policy:\"inv\"\n",
    "power:0.75\n",
    "gamma:0.0001\n",
    "\n",
    "weight_decay:0.0001\n",
    "momentum: 0.9\n",
    "\n",
    "точность ~71%"
   ]
  },
  {
   "cell_type": "code",
   "execution_count": null,
   "metadata": {},
   "outputs": [],
   "source": []
  }
 ],
 "metadata": {
  "kernelspec": {
   "display_name": "Python 3",
   "language": "python",
   "name": "python3"
  },
  "language_info": {
   "codemirror_mode": {
    "name": "ipython",
    "version": 3
   },
   "file_extension": ".py",
   "mimetype": "text/x-python",
   "name": "python",
   "nbconvert_exporter": "python",
   "pygments_lexer": "ipython3",
   "version": "3.6.8"
  }
 },
 "nbformat": 4,
 "nbformat_minor": 2
}
