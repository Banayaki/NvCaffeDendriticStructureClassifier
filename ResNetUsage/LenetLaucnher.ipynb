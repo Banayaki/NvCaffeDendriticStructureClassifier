{
 "cells": [
  {
   "cell_type": "code",
   "execution_count": 1,
   "metadata": {},
   "outputs": [],
   "source": [
    "from caffe import layers as L, params as P\n",
    "import caffe"
   ]
  },
  {
   "cell_type": "code",
   "execution_count": 2,
   "metadata": {},
   "outputs": [],
   "source": [
    "caffe.set_mode_gpu()\n",
    "caffe.set_device(1)"
   ]
  },
  {
   "cell_type": "code",
   "execution_count": 3,
   "metadata": {},
   "outputs": [],
   "source": [
    "def lenet(data_set, batch_size, scope):\n",
    "    n = caffe.NetSpec()\n",
    "    n.data, n.label = L.ImageData(batch_size=batch_size, source=data_set, is_color=False, ntop=2)\n",
    "    \n",
    "    n.conv1 = L.Convolution(n.data, kernel_size=5, pad=3, num_output=32, weight_filler=dict(type='xavier'))\n",
    "    n.pool1 = L.Pooling(n.conv1, kernel_size=2, stride=2, pool=P.Pooling.MAX)\n",
    "    n.conv2 = L.Convolution(n.pool1, kernel_size=3, num_output=64, weight_filler=dict(type='xavier'))\n",
    "    n.pool2 = L.Pooling(n.conv2, kernel_size=2, stride=2, pool=P.Pooling.MAX)\n",
    "    n.conv3 = L.Convolution(n.pool2, kernel_size=3, num_output=128, weight_filler=dict(type='xavier'))\n",
    "    n.pool3 = L.Pooling(n.conv3, kernel_size=2, stride=2, pool=P.Pooling.MAX)\n",
    "    n.conv4 = L.Convolution(n.pool3, kernel_size=3, num_output=256, weight_filler=dict(type='xavier'))\n",
    "    n.pool4 = L.Pooling(n.conv4, kernel_size=2, stride=2, pool=P.Pooling.MAX)\n",
    "    n.conv5 = L.Convolution(n.pool4, kernel_size=3, num_output=512, weight_filler=dict(type='xavier'))\n",
    "    n.pool5 = L.Pooling(n.conv5, kernel_size=2, stride=2, pool=P.Pooling.MAX)\n",
    "    n.fc1 =   L.InnerProduct(n.pool5, num_output=1000, weight_filler=dict(type='xavier'))\n",
    "    n.relu1 = L.ReLU(n.fc1, in_place=True)\n",
    "    n.fc2 = L.InnerProduct(n.relu1, num_output=500, weight_filler=dict(type='xavier'))\n",
    "    n.relu2 = L.ReLU(n.fc2, in_place=True)\n",
    "    n.fc3 = L.InnerProduct(n.relu2, num_output=200, weight_filler=dict(type='xavier'))\n",
    "    n.relu3 = L.ReLU(n.fc3, in_place=True)\n",
    "    n.score = L.InnerProduct(n.relu2, num_output=10, weight_filler=dict(type='xavier'))\n",
    "    n.loss =  L.SoftmaxWithLoss(n.score, n.label)\n",
    "    \n",
    "    if scope == 'TEST':\n",
    "        n.accuracy_top1 = L.Accuracy(n.score, n.label)\n",
    "        n.accuracy_top5 = L.Accuracy(n.score, n.label, accuracy_param=dict(top_k=5))\n",
    "        \n",
    "    return n.to_proto()\n",
    "    \n",
    "with open('proto/lenet_auto_train.prototxt', 'w') as f:\n",
    "    f.write(str(lenet('resources/train.txt', 256, 'TRAIN')))\n",
    "    \n",
    "with open('proto/lenet_auto_test.prototxt', 'w') as f:\n",
    "    f.write(str(lenet('resources/test.txt', 256, 'TEST')))"
   ]
  },
  {
   "cell_type": "code",
   "execution_count": 4,
   "metadata": {},
   "outputs": [
    {
     "data": {
      "text/plain": [
       "[('data', (256, 1, 224, 224)),\n",
       " ('label', (256,)),\n",
       " ('conv1', (256, 32, 226, 226)),\n",
       " ('pool1', (256, 32, 113, 113)),\n",
       " ('conv2', (256, 64, 111, 111)),\n",
       " ('pool2', (256, 64, 56, 56)),\n",
       " ('conv3', (256, 128, 54, 54)),\n",
       " ('pool3', (256, 128, 27, 27)),\n",
       " ('conv4', (256, 256, 25, 25)),\n",
       " ('pool4', (256, 256, 13, 13)),\n",
       " ('conv5', (256, 512, 11, 11)),\n",
       " ('pool5', (256, 512, 6, 6)),\n",
       " ('fc1', (256, 1000)),\n",
       " ('fc2', (256, 500)),\n",
       " ('fc2_relu2_0_split_0', (256, 500)),\n",
       " ('fc2_relu2_0_split_1', (256, 500)),\n",
       " ('fc3', (256, 200)),\n",
       " ('score', (256, 10)),\n",
       " ('loss', ())]"
      ]
     },
     "execution_count": 4,
     "metadata": {},
     "output_type": "execute_result"
    }
   ],
   "source": [
    "solver = caffe.RMSPropSolver('proto/lenet_solver.prototxt')\n",
    "[(k, v.data.shape) for k, v in solver.net.blobs.items()]"
   ]
  },
  {
   "cell_type": "code",
   "execution_count": 4,
   "metadata": {},
   "outputs": [
    {
     "ename": "NameError",
     "evalue": "name 'solver' is not defined",
     "output_type": "error",
     "traceback": [
      "\u001b[0;31m---------------------------------------------------------------------------\u001b[0m",
      "\u001b[0;31mNameError\u001b[0m                                 Traceback (most recent call last)",
      "\u001b[0;32m<ipython-input-4-6416c8340715>\u001b[0m in \u001b[0;36m<module>\u001b[0;34m\u001b[0m\n\u001b[0;32m----> 1\u001b[0;31m \u001b[0msolver\u001b[0m\u001b[0;34m.\u001b[0m\u001b[0msolve\u001b[0m\u001b[0;34m(\u001b[0m\u001b[0;34m)\u001b[0m\u001b[0;34m\u001b[0m\u001b[0;34m\u001b[0m\u001b[0m\n\u001b[0m",
      "\u001b[0;31mNameError\u001b[0m: name 'solver' is not defined"
     ]
    }
   ],
   "source": [
    "solver.solve()"
   ]
  },
  {
   "cell_type": "code",
   "execution_count": null,
   "metadata": {},
   "outputs": [],
   "source": []
  }
 ],
 "metadata": {
  "kernelspec": {
   "display_name": "Python 3",
   "language": "python",
   "name": "python3"
  },
  "language_info": {
   "codemirror_mode": {
    "name": "ipython",
    "version": 3
   },
   "file_extension": ".py",
   "mimetype": "text/x-python",
   "name": "python",
   "nbconvert_exporter": "python",
   "pygments_lexer": "ipython3",
   "version": "3.6.8"
  }
 },
 "nbformat": 4,
 "nbformat_minor": 2
}
