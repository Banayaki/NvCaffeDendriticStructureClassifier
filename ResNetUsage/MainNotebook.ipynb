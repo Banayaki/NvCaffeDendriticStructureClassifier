{
 "cells": [
  {
   "cell_type": "code",
   "execution_count": 1,
   "metadata": {},
   "outputs": [],
   "source": [
    "import caffe\n",
    "import sys\n",
    "import numpy as np\n",
    "import matplotlib.pyplot as plt\n",
    "%matplotlib inline"
   ]
  },
  {
   "cell_type": "code",
   "execution_count": 2,
   "metadata": {},
   "outputs": [
    {
     "name": "stdout",
     "output_type": "stream",
     "text": [
      "1.0.0\n"
     ]
    }
   ],
   "source": [
    "caffe.set_mode_gpu()\n",
    "caffe.set_device(1)\n",
    "print(caffe.__version__)"
   ]
  },
  {
   "cell_type": "code",
   "execution_count": 3,
   "metadata": {},
   "outputs": [],
   "source": [
    "solver = caffe.RMSPropSolver('proto/resnet50_solver.prototxt')"
   ]
  },
  {
   "cell_type": "code",
   "execution_count": 4,
   "metadata": {
    "scrolled": true
   },
   "outputs": [
    {
     "data": {
      "text/plain": [
       "[('data', (8, 1, 224, 224)),\n",
       " ('label', (8,)),\n",
       " ('conv1', (8, 64, 112, 112)),\n",
       " ('pool1', (8, 64, 56, 56)),\n",
       " ('pool1_pool1_0_split_0', (8, 64, 56, 56)),\n",
       " ('pool1_pool1_0_split_1', (8, 64, 56, 56)),\n",
       " ('res2a_branch1', (8, 256, 56, 56)),\n",
       " ('res2a_branch2a', (8, 64, 56, 56)),\n",
       " ('res2a_branch2b', (8, 64, 56, 56)),\n",
       " ('res2a_branch2c', (8, 256, 56, 56)),\n",
       " ('res2a', (8, 256, 56, 56)),\n",
       " ('res2a_res2a_relu_0_split_0', (8, 256, 56, 56)),\n",
       " ('res2a_res2a_relu_0_split_1', (8, 256, 56, 56)),\n",
       " ('res2b1_branch2a', (8, 64, 56, 56)),\n",
       " ('res2b1_branch2b', (8, 64, 56, 56)),\n",
       " ('res2b1_branch2c', (8, 256, 56, 56)),\n",
       " ('res2b1', (8, 256, 56, 56)),\n",
       " ('res2b1_res2b1_relu_0_split_0', (8, 256, 56, 56)),\n",
       " ('res2b1_res2b1_relu_0_split_1', (8, 256, 56, 56)),\n",
       " ('res2b2_branch2a', (8, 64, 56, 56)),\n",
       " ('res2b2_branch2b', (8, 64, 56, 56)),\n",
       " ('res2b2_branch2c', (8, 256, 56, 56)),\n",
       " ('res2b2', (8, 256, 56, 56)),\n",
       " ('res2b2_res2b2_relu_0_split_0', (8, 256, 56, 56)),\n",
       " ('res2b2_res2b2_relu_0_split_1', (8, 256, 56, 56)),\n",
       " ('res3a_branch1', (8, 512, 28, 28)),\n",
       " ('res3a_branch2a', (8, 128, 28, 28)),\n",
       " ('res3a_branch2b', (8, 128, 28, 28)),\n",
       " ('res3a_branch2c', (8, 512, 28, 28)),\n",
       " ('res3a', (8, 512, 28, 28)),\n",
       " ('res3a_res3a_relu_0_split_0', (8, 512, 28, 28)),\n",
       " ('res3a_res3a_relu_0_split_1', (8, 512, 28, 28)),\n",
       " ('res3b1_branch2a', (8, 128, 28, 28)),\n",
       " ('res3b1_branch2b', (8, 128, 28, 28)),\n",
       " ('res3b1_branch2c', (8, 512, 28, 28)),\n",
       " ('res3b1', (8, 512, 28, 28)),\n",
       " ('res3b1_res3b1_relu_0_split_0', (8, 512, 28, 28)),\n",
       " ('res3b1_res3b1_relu_0_split_1', (8, 512, 28, 28)),\n",
       " ('res3b2_branch2a', (8, 128, 28, 28)),\n",
       " ('res3b2_branch2b', (8, 128, 28, 28)),\n",
       " ('res3b2_branch2c', (8, 512, 28, 28)),\n",
       " ('res3b2', (8, 512, 28, 28)),\n",
       " ('res3b2_res3b2_relu_0_split_0', (8, 512, 28, 28)),\n",
       " ('res3b2_res3b2_relu_0_split_1', (8, 512, 28, 28)),\n",
       " ('res3b3_branch2a', (8, 128, 28, 28)),\n",
       " ('res3b3_branch2b', (8, 128, 28, 28)),\n",
       " ('res3b3_branch2c', (8, 512, 28, 28)),\n",
       " ('res3b3', (8, 512, 28, 28)),\n",
       " ('res3b3_res3b3_relu_0_split_0', (8, 512, 28, 28)),\n",
       " ('res3b3_res3b3_relu_0_split_1', (8, 512, 28, 28)),\n",
       " ('res4a_branch1', (8, 1024, 14, 14)),\n",
       " ('res4a_branch2a', (8, 256, 14, 14)),\n",
       " ('res4a_branch2b', (8, 256, 14, 14)),\n",
       " ('res4a_branch2c', (8, 1024, 14, 14)),\n",
       " ('res4a', (8, 1024, 14, 14)),\n",
       " ('res4a_res4a_relu_0_split_0', (8, 1024, 14, 14)),\n",
       " ('res4a_res4a_relu_0_split_1', (8, 1024, 14, 14)),\n",
       " ('res4b1_branch2a', (8, 256, 14, 14)),\n",
       " ('res4b1_branch2b', (8, 256, 14, 14)),\n",
       " ('res4b1_branch2c', (8, 1024, 14, 14)),\n",
       " ('res4b1', (8, 1024, 14, 14)),\n",
       " ('res4b1_res4b1_relu_0_split_0', (8, 1024, 14, 14)),\n",
       " ('res4b1_res4b1_relu_0_split_1', (8, 1024, 14, 14)),\n",
       " ('res4b2_branch2a', (8, 256, 14, 14)),\n",
       " ('res4b2_branch2b', (8, 256, 14, 14)),\n",
       " ('res4b2_branch2c', (8, 1024, 14, 14)),\n",
       " ('res4b2', (8, 1024, 14, 14)),\n",
       " ('res4b2_res4b2_relu_0_split_0', (8, 1024, 14, 14)),\n",
       " ('res4b2_res4b2_relu_0_split_1', (8, 1024, 14, 14)),\n",
       " ('res4b3_branch2a', (8, 256, 14, 14)),\n",
       " ('res4b3_branch2b', (8, 256, 14, 14)),\n",
       " ('res4b3_branch2c', (8, 1024, 14, 14)),\n",
       " ('res4b3', (8, 1024, 14, 14)),\n",
       " ('res4b3_res4b3_relu_0_split_0', (8, 1024, 14, 14)),\n",
       " ('res4b3_res4b3_relu_0_split_1', (8, 1024, 14, 14)),\n",
       " ('res4b4_branch2a', (8, 256, 14, 14)),\n",
       " ('res4b4_branch2b', (8, 256, 14, 14)),\n",
       " ('res4b4_branch2c', (8, 1024, 14, 14)),\n",
       " ('res4b4', (8, 1024, 14, 14)),\n",
       " ('res4b4_res4b4_relu_0_split_0', (8, 1024, 14, 14)),\n",
       " ('res4b4_res4b4_relu_0_split_1', (8, 1024, 14, 14)),\n",
       " ('res4b5_branch2a', (8, 256, 14, 14)),\n",
       " ('res4b5_branch2b', (8, 256, 14, 14)),\n",
       " ('res4b5_branch2c', (8, 1024, 14, 14)),\n",
       " ('res4b5', (8, 1024, 14, 14)),\n",
       " ('res4b5_res4b5_relu_0_split_0', (8, 1024, 14, 14)),\n",
       " ('res4b5_res4b5_relu_0_split_1', (8, 1024, 14, 14)),\n",
       " ('res5a_branch1', (8, 2048, 7, 7)),\n",
       " ('res5a_branch2a', (8, 512, 7, 7)),\n",
       " ('res5a_branch2b', (8, 512, 7, 7)),\n",
       " ('res5a_branch2c', (8, 2048, 7, 7)),\n",
       " ('res5a', (8, 2048, 7, 7)),\n",
       " ('res5a_res5a_relu_0_split_0', (8, 2048, 7, 7)),\n",
       " ('res5a_res5a_relu_0_split_1', (8, 2048, 7, 7)),\n",
       " ('res5b1_branch2a', (8, 512, 7, 7)),\n",
       " ('res5b1_branch2b', (8, 512, 7, 7)),\n",
       " ('res5b1_branch2c', (8, 2048, 7, 7)),\n",
       " ('res5b1', (8, 2048, 7, 7)),\n",
       " ('res5b1_res5b1_relu_0_split_0', (8, 2048, 7, 7)),\n",
       " ('res5b1_res5b1_relu_0_split_1', (8, 2048, 7, 7)),\n",
       " ('res5b2_branch2a', (8, 512, 7, 7)),\n",
       " ('res5b2_branch2b', (8, 512, 7, 7)),\n",
       " ('res5b2_branch2c', (8, 2048, 7, 7)),\n",
       " ('res5b2', (8, 2048, 7, 7)),\n",
       " ('pool5', (8, 2048, 1, 1)),\n",
       " ('classifier', (8, 10)),\n",
       " ('loss', ())]"
      ]
     },
     "execution_count": 4,
     "metadata": {},
     "output_type": "execute_result"
    }
   ],
   "source": [
    "[(k, v.data.shape) for k, v in solver.net.blobs.items()]"
   ]
  },
  {
   "cell_type": "code",
   "execution_count": null,
   "metadata": {},
   "outputs": [],
   "source": [
    "solver.solve()"
   ]
  },
  {
   "cell_type": "code",
   "execution_count": null,
   "metadata": {},
   "outputs": [],
   "source": []
  },
  {
   "cell_type": "code",
   "execution_count": null,
   "metadata": {},
   "outputs": [],
   "source": []
  },
  {
   "cell_type": "code",
   "execution_count": null,
   "metadata": {},
   "outputs": [],
   "source": []
  }
 ],
 "metadata": {
  "kernelspec": {
   "display_name": "Python 3",
   "language": "python",
   "name": "python3"
  },
  "language_info": {
   "codemirror_mode": {
    "name": "ipython",
    "version": 3
   },
   "file_extension": ".py",
   "mimetype": "text/x-python",
   "name": "python",
   "nbconvert_exporter": "python",
   "pygments_lexer": "ipython3",
   "version": "3.6.8"
  }
 },
 "nbformat": 4,
 "nbformat_minor": 2
}
